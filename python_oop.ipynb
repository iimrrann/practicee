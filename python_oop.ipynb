{
  "cells": [
    {
      "cell_type": "markdown",
      "metadata": {
        "id": "view-in-github",
        "colab_type": "text"
      },
      "source": [
        "<a href=\"https://colab.research.google.com/github/iimrrann/practicee/blob/main/python_oop.ipynb\" target=\"_parent\"><img src=\"https://colab.research.google.com/assets/colab-badge.svg\" alt=\"Open In Colab\"/></a>"
      ]
    },
    {
      "cell_type": "markdown",
      "metadata": {
        "id": "BTIqq1eDJ8dc"
      },
      "source": [
        "# **Object Oriented Programing in Python**\n",
        "1. Class and Object\n",
        "2. Inheritance\n",
        "3. Polymorphism\n",
        "4. Encapsulation\n",
        "5. Abstraction\n",
        "6. Method Overriding\n",
        "7. Class and Instance Variables\n",
        "8. Static Methods"
      ]
    },
    {
      "cell_type": "markdown",
      "metadata": {
        "id": "J0k-8RHsKoRT"
      },
      "source": [
        "**Class and Object**"
      ]
    },
    {
      "cell_type": "code",
      "execution_count": null,
      "metadata": {
        "colab": {
          "base_uri": "https://localhost:8080/"
        },
        "id": "JcCIzDUzJzPv",
        "outputId": "88f91b24-7509-4410-ecd5-6b74c91fcec1"
      },
      "outputs": [
        {
          "name": "stdout",
          "output_type": "stream",
          "text": [
            "Deposited 500 into account 12345. New balance: 1500\n",
            "Withdrew 200 from account 54321. New balance: 300\n",
            "Withdrew 1500 from account 12345. New balance: 0\n"
          ]
        }
      ],
      "source": [
        "class BankAccount:\n",
        "    def __init__(self, account_number, balance):\n",
        "        self.account_number = account_number\n",
        "        self.balance = balance\n",
        "\n",
        "    def deposit(self, amount):\n",
        "        self.balance += amount\n",
        "        print(f\"Deposited {amount} into account {self.account_number}. New balance: {self.balance}\")\n",
        "\n",
        "    def withdraw(self, amount):\n",
        "        if self.balance >= amount:\n",
        "            self.balance -= amount\n",
        "            print(f\"Withdrew {amount} from account {self.account_number}. New balance: {self.balance}\")\n",
        "        else:\n",
        "            print(\"Insufficient funds!\")\n",
        "\n",
        "account1 = BankAccount(\"12345\", 1000)\n",
        "account2 = BankAccount(\"54321\", 500)\n",
        "\n",
        "account1.deposit(500)\n",
        "account2.withdraw(200)\n",
        "account1.withdraw(1500)"
      ]
    },
    {
      "cell_type": "code",
      "execution_count": null,
      "metadata": {
        "colab": {
          "base_uri": "https://localhost:8080/"
        },
        "id": "1yRP2MTKL5z-",
        "outputId": "41266b74-8ade-4ae5-b543-c5d202d287d8"
      },
      "outputs": [
        {
          "name": "stdout",
          "output_type": "stream",
          "text": [
            "Addition: 8\n",
            "Subtraction: 6\n",
            "Multiplication: 14\n",
            "Division: 5.0\n",
            "Division by zero: Cannot divide by zero\n"
          ]
        }
      ],
      "source": [
        "class Calculator:\n",
        "    def __init__(self):\n",
        "        pass\n",
        "\n",
        "    def add(self, a, b):\n",
        "        return a + b\n",
        "\n",
        "    def subtract(self, a, b):\n",
        "        return a - b\n",
        "\n",
        "    def multiply(self, a, b):\n",
        "        return a * b\n",
        "\n",
        "    def divide(self, a, b):\n",
        "        if b != 0:\n",
        "            return a / b\n",
        "        else:\n",
        "            return \"Cannot divide by zero\"\n",
        "\n",
        "calc = Calculator()\n",
        "'''object/instance'''\n",
        "\n",
        "print(\"Addition:\", calc.add(5, 3))\n",
        "print(\"Subtraction:\", calc.subtract(10, 4))\n",
        "print(\"Multiplication:\", calc.multiply(7, 2))\n",
        "print(\"Division:\", calc.divide(10, 2))\n",
        "print(\"Division by zero:\", calc.divide(8, 0))"
      ]
    },
    {
      "cell_type": "markdown",
      "metadata": {
        "id": "jBY1Xtr6MU2m"
      },
      "source": [
        "**Inheritance**"
      ]
    },
    {
      "cell_type": "code",
      "execution_count": null,
      "metadata": {
        "colab": {
          "base_uri": "https://localhost:8080/"
        },
        "id": "NmsNQ4ycM_bG",
        "outputId": "812d978c-d3d2-4e96-ed93-2872dee39efb"
      },
      "outputs": [
        {
          "name": "stdout",
          "output_type": "stream",
          "text": [
            "2022 Toyota Camry, 4 doors\n",
            "2023 Harley-Davidson Sportster, 1200cc engine\n"
          ]
        }
      ],
      "source": [
        "# Parent class\n",
        "class Vehicle:\n",
        "    def __init__(self, make, model, year):\n",
        "        self.make = make\n",
        "        self.model = model\n",
        "        self.year = year\n",
        "\n",
        "    def display_info(self):\n",
        "        return f\"{self.year} {self.make} {self.model}\"\n",
        "\n",
        "# Child class inheriting from Vehicle\n",
        "class Car(Vehicle):\n",
        "    def __init__(self, make, model, year, num_doors):\n",
        "        super().__init__(make, model, year)\n",
        "        self.num_doors = num_doors\n",
        "\n",
        "    def display_info(self):\n",
        "        return f\"{super().display_info()}, {self.num_doors} doors\"\n",
        "\n",
        "# Another child class inheriting from Vehicle\n",
        "class Motorcycle(Vehicle):\n",
        "    def __init__(self, make, model, year, engine_size):\n",
        "        super().__init__(make, model, year)\n",
        "        self.engine_size = engine_size\n",
        "\n",
        "    def display_info(self):\n",
        "        return f\"{super().display_info()}, {self.engine_size}cc engine\"\n",
        "\n",
        "car = Car(\"Toyota\", \"Camry\", 2022, 4)\n",
        "motorcycle = Motorcycle(\"Harley-Davidson\", \"Sportster\", 2023, 1200)\n",
        "\n",
        "print(car.display_info())\n",
        "print(motorcycle.display_info())"
      ]
    },
    {
      "cell_type": "code",
      "execution_count": null,
      "metadata": {
        "colab": {
          "base_uri": "https://localhost:8080/"
        },
        "id": "0loImI3pNSny",
        "outputId": "01920f1d-bacd-4db8-9572-f3b1b278c1e4"
      },
      "outputs": [
        {
          "name": "stdout",
          "output_type": "stream",
          "text": [
            "The shape is red.\n",
            "This circle has a radius of 5 units.\n",
            "Area of circle: 78.5\n",
            "The shape is blue.\n",
            "This rectangle has length 4 units and width 6 units.\n",
            "Area of rectangle: 24\n"
          ]
        }
      ],
      "source": [
        "class Shape:\n",
        "    def __init__(self, color):\n",
        "        self.color = color\n",
        "\n",
        "    def display_color(self):\n",
        "        return f\"The shape is {self.color}.\"\n",
        "\n",
        "\n",
        "class Circle(Shape):\n",
        "    def __init__(self, color, radius):\n",
        "        super().__init__(color)\n",
        "        self.radius = radius\n",
        "\n",
        "    def area(self):\n",
        "        return 3.14 * self.radius ** 2\n",
        "\n",
        "    def display_info(self):\n",
        "        return f\"This circle has a radius of {self.radius} units.\"\n",
        "\n",
        "\n",
        "class Rectangle(Shape):\n",
        "    def __init__(self, color, length, width):\n",
        "        super().__init__(color)\n",
        "        self.length = length\n",
        "        self.width = width\n",
        "\n",
        "    def area(self):\n",
        "        return self.length * self.width\n",
        "\n",
        "    def display_info(self):\n",
        "        return f\"This rectangle has length {self.length} units and width {self.width} units.\"\n",
        "\n",
        "circle = Circle(\"red\", 5)\n",
        "rectangle = Rectangle(\"blue\", 4, 6)\n",
        "\n",
        "print(circle.display_color())\n",
        "print(circle.display_info())\n",
        "print(\"Area of circle:\", circle.area())\n",
        "\n",
        "print(rectangle.display_color())\n",
        "print(rectangle.display_info())\n",
        "print(\"Area of rectangle:\", rectangle.area())"
      ]
    },
    {
      "cell_type": "markdown",
      "metadata": {
        "id": "y5eQbMTzVBX_"
      },
      "source": [
        "**Polymorphism**"
      ]
    },
    {
      "cell_type": "code",
      "execution_count": null,
      "metadata": {
        "colab": {
          "base_uri": "https://localhost:8080/"
        },
        "id": "nZkl08rmVrRb",
        "outputId": "e62c1390-4bcf-4040-bbf9-a5e3cf6d1a75"
      },
      "outputs": [
        {
          "name": "stdout",
          "output_type": "stream",
          "text": [
            "Car is driving\n",
            "Bicycle is cycling\n",
            "Airplane is flying\n"
          ]
        }
      ],
      "source": [
        "class Vehicle:\n",
        "    def move(self):\n",
        "        pass\n",
        "\n",
        "class Car(Vehicle):\n",
        "    def move(self):\n",
        "        return \"Car is driving\"\n",
        "\n",
        "class Bicycle(Vehicle):\n",
        "    def move(self):\n",
        "        return \"Bicycle is cycling\"\n",
        "\n",
        "class Airplane(Vehicle):\n",
        "    def move(self):\n",
        "        return \"Airplane is flying\"\n",
        "\n",
        "\n",
        "vehicles = [Car(), Bicycle(), Airplane()]\n",
        "\n",
        "for vehicle in vehicles:\n",
        "    print(vehicle.move())"
      ]
    },
    {
      "cell_type": "code",
      "execution_count": null,
      "metadata": {
        "colab": {
          "base_uri": "https://localhost:8080/"
        },
        "id": "svcn9VseVDzU",
        "outputId": "e52e78f1-f7cc-4f8f-ee68-a69363f027c8"
      },
      "outputs": [
        {
          "name": "stdout",
          "output_type": "stream",
          "text": [
            "Area of rectangle: 20\n",
            "Area of circle: 28.274333882308138\n"
          ]
        }
      ],
      "source": [
        "import math\n",
        "\n",
        "class Shape:\n",
        "    def area(self):\n",
        "        pass\n",
        "\n",
        "class Rectangle(Shape):\n",
        "    def __init__(self, length, width):\n",
        "        self.length = length\n",
        "        self.width = width\n",
        "\n",
        "    def area(self):\n",
        "        return self.length * self.width\n",
        "\n",
        "class Circle(Shape):\n",
        "    def __init__(self, radius):\n",
        "        self.radius = radius\n",
        "\n",
        "    def area(self):\n",
        "        return math.pi * self.radius ** 2\n",
        "\n",
        "def calculate_area(x):\n",
        "    return x.area()\n",
        "\n",
        "def main():\n",
        "    rectangle = Rectangle(5, 4)\n",
        "    circle = Circle(3)\n",
        "\n",
        "    print(\"Area of rectangle:\", calculate_area(rectangle))\n",
        "    print(\"Area of circle:\", calculate_area(circle))\n",
        "\n",
        "if __name__ == \"__main__\":\n",
        "    main()"
      ]
    },
    {
      "cell_type": "markdown",
      "metadata": {
        "id": "vb4m0pTgV7ww"
      },
      "source": [
        "**Encapsulation**"
      ]
    },
    {
      "cell_type": "code",
      "execution_count": null,
      "metadata": {
        "colab": {
          "base_uri": "https://localhost:8080/"
        },
        "id": "yzDrB9NMWs81",
        "outputId": "233649e3-61b2-469d-bead-bf6663cf2418"
      },
      "outputs": [
        {
          "name": "stdout",
          "output_type": "stream",
          "text": [
            "Name: Alice\n",
            "Age: 30\n",
            "Modified Name: Bob\n",
            "Modified Age: 25\n"
          ]
        }
      ],
      "source": [
        "class Person:\n",
        "    def __init__(self, name, age):\n",
        "        self._name = name\n",
        "        self._age = age\n",
        "\n",
        "    def get_name(self):\n",
        "        return self._name\n",
        "\n",
        "    def set_name(self, name):\n",
        "        self._name = name\n",
        "\n",
        "    def get_age(self):\n",
        "        return self._age\n",
        "\n",
        "    def set_age(self, age):\n",
        "        if age >= 0:\n",
        "            self._age = age\n",
        "        else:\n",
        "            print(\"Invalid age. Age must be non-negative.\")\n",
        "\n",
        "\n",
        "person1 = Person(\"Alice\", 30)\n",
        "\n",
        "print(\"Name:\", person1.get_name())\n",
        "print(\"Age:\", person1.get_age())\n",
        "\n",
        "person1.set_name(\"Bob\")\n",
        "person1.set_age(25)\n",
        "\n",
        "print(\"Modified Name:\", person1.get_name())\n",
        "print(\"Modified Age:\", person1.get_age())"
      ]
    },
    {
      "cell_type": "markdown",
      "metadata": {
        "id": "r_67sMxjYJ_Q"
      },
      "source": [
        "**Abstraction**"
      ]
    },
    {
      "cell_type": "code",
      "execution_count": null,
      "metadata": {
        "id": "fAJACYQAYMCd"
      },
      "outputs": [],
      "source": [
        "from abc import ABC, abstractmethod\n",
        "\n",
        "class Shape(ABC):\n",
        "    @abstractmethod\n",
        "    def area(self):\n",
        "        pass\n",
        "\n",
        "    @abstractmethod\n",
        "    def perimeter(self):\n",
        "        pass\n",
        "\n",
        "class Rectangle(Shape):\n",
        "    def __init__(self, length, width):\n",
        "        self.length = length\n",
        "        self.width = width\n",
        "\n",
        "    def area(self):\n",
        "        return self.length * self.width\n",
        "\n",
        "    def perimeter(self):\n",
        "        return 2 * (self.length + self.width)\n",
        "\n",
        "class Circle(Shape):\n",
        "    def __init__(self, radius):\n",
        "        self.radius = radius\n",
        "\n",
        "    def area(self):\n",
        "        return 3.14 * self.radius * self.radius\n",
        "\n",
        "    def perimeter(self):\n",
        "        return 2 * 3.14 * self.radius\n",
        "\n",
        "rectangle = Rectangle(5, 4)\n",
        "print(\"Area of Rectangle:\", rectangle.area())\n",
        "print(\"Perimeter of Rectangle:\", rectangle.perimeter())\n",
        "\n",
        "circle = Circle(7)\n",
        "print(\"Area of Circle:\", circle.area())\n",
        "print(\"Circumference of Circle:\", circle.perimeter())"
      ]
    },
    {
      "cell_type": "markdown",
      "metadata": {
        "id": "N6RC3CNrZPsx"
      },
      "source": [
        "**Method Overriding**"
      ]
    },
    {
      "cell_type": "code",
      "execution_count": null,
      "metadata": {
        "colab": {
          "background_save": true
        },
        "id": "P2b_sj9tZWeF",
        "outputId": "6f1a22a6-9bc2-48c1-880c-e7ea977ef037"
      },
      "outputs": [
        {
          "name": "stdout",
          "output_type": "stream",
          "text": [
            "Some generic sound\n",
            "Woof!\n",
            "Meow!\n",
            "Some generic sound\n"
          ]
        }
      ],
      "source": [
        "class Animal:\n",
        "    def make_sound(self):\n",
        "        print(\"Some generic sound\")\n",
        "\n",
        "class Dog(Animal):\n",
        "    def make_sound(self):\n",
        "        print(\"Woof!\")\n",
        "\n",
        "class Cat(Animal):\n",
        "    def make_sound(self):\n",
        "        print(\"Meow!\")\n",
        "\n",
        "class Cow(Animal):\n",
        "    # This class does not override make_sound method\n",
        "    pass\n",
        "\n",
        "animal = Animal()\n",
        "dog = Dog()\n",
        "cat = Cat()\n",
        "cow = Cow()\n",
        "\n",
        "animal.make_sound()\n",
        "dog.make_sound()\n",
        "cat.make_sound()\n",
        "cow.make_sound()"
      ]
    },
    {
      "cell_type": "markdown",
      "metadata": {
        "id": "_ShDnA4CdbZx"
      },
      "source": [
        "**Class and Instance Variables**"
      ]
    },
    {
      "cell_type": "code",
      "execution_count": null,
      "metadata": {
        "id": "He0HfWsQdcQ_",
        "colab": {
          "base_uri": "https://localhost:8080/"
        },
        "outputId": "f62d020f-89fb-4482-9408-bbfe54295574"
      },
      "outputs": [
        {
          "output_type": "stream",
          "name": "stdout",
          "text": [
            "Name: Alice, Grade: 10\n",
            "Name: Bob, Grade: 11\n",
            "School Name for Student 1: XYZ High School\n",
            "School Name for Student 2: XYZ High School\n",
            "School Name for Student 1 after modification: ABC High School\n",
            "School Name for Student 2 after modification: ABC High School\n",
            "Alice attended school today.\n",
            "Alice attended school today.\n",
            "Bob attended school today.\n",
            "Attendance for Alice: 2\n",
            "Attendance for Bob: 1\n"
          ]
        }
      ],
      "source": [
        "class Student:\n",
        "    # Class variable\n",
        "    school_name = \"XYZ High School\"\n",
        "\n",
        "    def __init__(self, name, grade):\n",
        "        # Instance variables\n",
        "        self.name = name\n",
        "        self.grade = grade\n",
        "        self.attendance = 0\n",
        "        '''instance var'''\n",
        "\n",
        "    def attend_school(self):\n",
        "        self.attendance += 1\n",
        "        print(f\"{self.name} attended school today.\")\n",
        "\n",
        "    def display_info(self):\n",
        "        print(f\"Name: {self.name}, Grade: {self.grade}\")\n",
        "\n",
        "student1 = Student(\"Alice\", 10)\n",
        "student2 = Student(\"Bob\", 11)\n",
        "\n",
        "student1.display_info()\n",
        "student2.display_info()\n",
        "\n",
        "# Accessing class variable\n",
        "print(f\"School Name for Student 1: {student1.school_name}\")\n",
        "print(f\"School Name for Student 2: {student2.school_name}\")\n",
        "\n",
        "# Modifying class variable\n",
        "Student.school_name = \"ABC High School\"\n",
        "print(f\"School Name for Student 1 after modification: {student1.school_name}\")\n",
        "print(f\"School Name for Student 2 after modification: {student2.school_name}\")\n",
        "\n",
        "# Modifying instance variable\n",
        "student1.attend_school()\n",
        "student1.attend_school()\n",
        "student2.attend_school()\n",
        "print(f\"Attendance for {student1.name}: {student1.attendance}\")\n",
        "print(f\"Attendance for {student2.name}: {student2.attendance}\")"
      ]
    },
    {
      "cell_type": "markdown",
      "metadata": {
        "id": "6HweuCtieD6X"
      },
      "source": [
        "**Static Method**"
      ]
    },
    {
      "cell_type": "code",
      "execution_count": null,
      "metadata": {
        "id": "xF_C1OqxfltA",
        "colab": {
          "base_uri": "https://localhost:8080/"
        },
        "outputId": "6734d347-abdc-4e32-bdb2-c9f99fc8bfa0"
      },
      "outputs": [
        {
          "output_type": "stream",
          "name": "stdout",
          "text": [
            "Addition Result: 15\n",
            "Subtraction Result: 5\n",
            "Multiplication Result: 24\n",
            "Division Result: 5.0\n",
            "Multiplication Result: 24\n"
          ]
        }
      ],
      "source": [
        "class Calculator:\n",
        "    def __init__(self, x, y):\n",
        "        self.x = x\n",
        "        self.y = y\n",
        "\n",
        "    def add(self):\n",
        "        return self.x + self.y\n",
        "\n",
        "    def subtract(self):\n",
        "        return self.x - self.y\n",
        "\n",
        "    @staticmethod\n",
        "    def multiply(x, y):\n",
        "        return x * y\n",
        "\n",
        "    @staticmethod\n",
        "    def divide(x, y):\n",
        "        if y == 0:\n",
        "            return \"Cannot divide by zero!\"\n",
        "        else:\n",
        "            return x / y\n",
        "\n",
        "calc_instance = Calculator(10, 5)\n",
        "\n",
        "# Call non-static methods on the instance\n",
        "print(\"Addition Result:\", calc_instance.add())\n",
        "print(\"Subtraction Result:\", calc_instance.subtract())\n",
        "\n",
        "# Call static methods directly on the class\n",
        "print(\"Multiplication Result:\", Calculator.multiply(4, 6))\n",
        "print(\"Division Result:\", Calculator.divide(10, 2))\n",
        "print(\"Multiplication Result:\", calc_instance.multiply(4, 6))\n"
      ]
    }
  ],
  "metadata": {
    "colab": {
      "provenance": [],
      "include_colab_link": true
    },
    "kernelspec": {
      "display_name": "Python 3",
      "name": "python3"
    },
    "language_info": {
      "name": "python"
    }
  },
  "nbformat": 4,
  "nbformat_minor": 0
}